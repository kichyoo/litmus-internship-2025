{
 "cells": [
  {
   "cell_type": "code",
   "execution_count": 1,
   "id": "57cc9b28-ddf5-48eb-aaf5-ed2c6ab16900",
   "metadata": {},
   "outputs": [
    {
     "name": "stdout",
     "output_type": "stream",
     "text": [
      "Logistic Regression Accuracy: 0.1389\n",
      "Decision Tree Accuracy: 0.1265\n",
      "Random Forest Accuracy: 0.1287\n",
      "K-Nearest Neighbors Accuracy: 0.1144\n",
      "Support Vector Machine Accuracy: 0.1401\n",
      "\n",
      "Best Model: Support Vector Machine (Accuracy: 0.1401)\n"
     ]
    },
    {
     "data": {
      "text/plain": [
       "['le_category.pkl']"
      ]
     },
     "execution_count": 1,
     "metadata": {},
     "output_type": "execute_result"
    }
   ],
   "source": [
    "import pandas as pd\n",
    "from sklearn.model_selection import train_test_split\n",
    "from sklearn.preprocessing import LabelEncoder\n",
    "from sklearn.linear_model import LogisticRegression\n",
    "from sklearn.tree import DecisionTreeClassifier\n",
    "from sklearn.ensemble import RandomForestClassifier\n",
    "from sklearn.neighbors import KNeighborsClassifier\n",
    "from sklearn.svm import SVC\n",
    "from sklearn.metrics import accuracy_score\n",
    "import joblib\n",
    "\n",
    "# Load data\n",
    "order_info = pd.read_csv(\"order_info.csv\")\n",
    "order_line = pd.read_csv(\"order_line.csv\")\n",
    "\n",
    "# Clean headers\n",
    "order_info = order_info.rename(columns=lambda x: x.strip())\n",
    "order_line = order_line.rename(columns=lambda x: x.strip())\n",
    "\n",
    "# Preprocess\n",
    "order_info['Customer Age'] = order_info['Customer Age'].astype(int)\n",
    "order_info['Customer Gender'] = order_info['Customer Gender'].str.strip().str.capitalize()\n",
    "\n",
    "# Merge\n",
    "df = pd.merge(order_info, order_line, on=\"Order ID\")\n",
    "\n",
    "# Encode features and target\n",
    "le_gender = LabelEncoder()\n",
    "df['Customer Gender'] = le_gender.fit_transform(df['Customer Gender'])\n",
    "\n",
    "le_category = LabelEncoder()\n",
    "df['Category'] = le_category.fit_transform(df['Category'])\n",
    "\n",
    "X = df[['Customer Age', 'Customer Gender']]\n",
    "y = df['Category']\n",
    "X_train, X_test, y_train, y_test = train_test_split(X, y, test_size=0.25, random_state=42)\n",
    "\n",
    "# Model training\n",
    "models = {\n",
    "    \"Logistic Regression\": LogisticRegression(max_iter=1000),\n",
    "    \"Decision Tree\": DecisionTreeClassifier(random_state=42),\n",
    "    \"Random Forest\": RandomForestClassifier(random_state=42),\n",
    "    \"K-Nearest Neighbors\": KNeighborsClassifier(),\n",
    "    \"Support Vector Machine\": SVC(probability=True, random_state=42)\n",
    "}\n",
    "\n",
    "best_model = None\n",
    "best_accuracy = 0\n",
    "\n",
    "for name, model in models.items():\n",
    "    model.fit(X_train, y_train)\n",
    "    accuracy = accuracy_score(y_test, model.predict(X_test))\n",
    "    print(f\"{name} Accuracy: {accuracy:.4f}\")\n",
    "    if accuracy > best_accuracy:\n",
    "        best_model = model\n",
    "        best_model_name = name\n",
    "        best_accuracy = accuracy\n",
    "\n",
    "print(f\"\\nBest Model: {best_model_name} (Accuracy: {best_accuracy:.4f})\")\n",
    "\n",
    "# Save best model and encoders\n",
    "joblib.dump(best_model, \"best_classification_model.pkl\")\n",
    "joblib.dump(le_gender, \"le_gender.pkl\")\n",
    "joblib.dump(le_category, \"le_category.pkl\")"
   ]
  },
  {
   "cell_type": "code",
   "execution_count": null,
   "id": "3afc6ebd-f226-4fef-910f-880816703fce",
   "metadata": {},
   "outputs": [],
   "source": []
  }
 ],
 "metadata": {
  "kernelspec": {
   "display_name": "Python 3 (ipykernel)",
   "language": "python",
   "name": "python3"
  },
  "language_info": {
   "codemirror_mode": {
    "name": "ipython",
    "version": 3
   },
   "file_extension": ".py",
   "mimetype": "text/x-python",
   "name": "python",
   "nbconvert_exporter": "python",
   "pygments_lexer": "ipython3",
   "version": "3.12.7"
  }
 },
 "nbformat": 4,
 "nbformat_minor": 5
}
